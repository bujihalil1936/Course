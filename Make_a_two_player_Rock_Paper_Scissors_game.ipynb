{
  "nbformat": 4,
  "nbformat_minor": 0,
  "metadata": {
    "colab": {
      "name": " Make a two-player Rock-Paper-Scissors game.ipynb",
      "provenance": [],
      "authorship_tag": "ABX9TyOHDprcASPnSC77wZLGZ9fZ",
      "include_colab_link": true
    },
    "kernelspec": {
      "name": "python3",
      "display_name": "Python 3"
    },
    "language_info": {
      "name": "python"
    }
  },
  "cells": [
    {
      "cell_type": "markdown",
      "metadata": {
        "id": "view-in-github",
        "colab_type": "text"
      },
      "source": [
        "<a href=\"https://colab.research.google.com/github/bujihalil1936/Course/blob/master/Make_a_two_player_Rock_Paper_Scissors_game.ipynb\" target=\"_parent\"><img src=\"https://colab.research.google.com/assets/colab-badge.svg\" alt=\"Open In Colab\"/></a>"
      ]
    },
    {
      "cell_type": "markdown",
      "metadata": {
        "id": "x-7ckvk1mHSQ"
      },
      "source": [
        "Task : Make a two-player Rock-Paper-Scissors game. (Hint: Ask for player plays (using input), compare them, print out a message of congratulations to the winner, and ask if the players want to start a new game)\n",
        "Remember the rules:\n",
        "Rock beats scissors\n",
        "Scissors beats paper\n",
        "Paper beats rock"
      ]
    },
    {
      "cell_type": "code",
      "metadata": {
        "colab": {
          "base_uri": "https://localhost:8080/"
        },
        "id": "qVkybdCpmeik",
        "outputId": "f2f87964-edd9-4dc2-8e52-3e7982417f30"
      },
      "source": [
        "repeat = True\n",
        "while repeat:    \n",
        "    player1 = input('Player 1, Rock(R)-Paper(P)-Scissors(S) > ').upper()\n",
        "    player2 = input('Player 2, Rock(R)-Paper(P)-Scissors(S) > ').upper()\n",
        "    if player1 == 'R':\n",
        "        if player2 == 'R':\n",
        "            print('Nobody wins. >')\n",
        "        elif player2 == 'P':\n",
        "            print('Congratulations Player2, you win.')\n",
        "        else:\n",
        "            print('Congratulations Player1, you win.')\n",
        "    elif player1 == 'P':\n",
        "        if player2 == 'P':\n",
        "            print('Nobody wins. >')\n",
        "        elif player2 == 'S':\n",
        "            print('Congratulations Player2, you win.')\n",
        "        else:\n",
        "            print('Congratulations Player1, you win.')\n",
        "    else:\n",
        "        if player2 == 'S':\n",
        "            print('Nobody wins. >')\n",
        "        elif player2 == 'R':\n",
        "            print('Congratulations Player2, you win.')\n",
        "        else:\n",
        "            print('Congratulations Player1, you win.')\n",
        "    repeat_q = input('Do you want to play again? (Y or N) > ').upper()\n",
        "    if repeat_q != 'Y':\n",
        "        repeat = False"
      ],
      "execution_count": 7,
      "outputs": [
        {
          "output_type": "stream",
          "text": [
            "Player 1, Rock(R)-Paper(P)-Scissors(S) > 1\n",
            "Player 2, Rock(R)-Paper(P)-Scissors(S) > R\n",
            "Congratulations Player2, you win.\n",
            "Do you want to play again? (Y or N) > P\n"
          ],
          "name": "stdout"
        }
      ]
    },
    {
      "cell_type": "code",
      "metadata": {
        "colab": {
          "base_uri": "https://localhost:8080/"
        },
        "id": "1bChzeGNmrXT",
        "outputId": "3b2fe712-3ceb-48f5-e4ad-22400f83bdb8"
      },
      "source": [
        "print(\"Let's play Rock-Paper-Scissors game\")\n",
        "g = str(input(\"Do you want to play again (yes or no): \")).lower().strip()\n",
        "while g == \"yes\":    \n",
        "    x = input(\"First player select one: Rock or Paper or Scissors: \").lower().strip()\n",
        "    y = input(\"Second player select one: Rock or Paper or Scissors: \")\n",
        "    r = \"rock\"\n",
        "    p = \"paper\"\n",
        "    s = \"scissors\"\n",
        "    if x == r and y == s:\n",
        "        z = \"first player\"\n",
        "    elif x == r and y  == p:\n",
        "        z = \"second player\"\n",
        "    elif x == r and y == r:\n",
        "        z = \"no winners\"\n",
        "    elif x == p and y == r:\n",
        "        z = \"first player\"\n",
        "    elif x == p and y == s:\n",
        "        z = \"second player\"\n",
        "    elif x == p and y == p:\n",
        "        z = \"no winners\"\n",
        "    elif x == s and y == r:\n",
        "        z = \"second player\"\n",
        "    elif x == s and y == p:\n",
        "        z = \"first player\"\n",
        "    elif x == s and y == s:\n",
        "        z =\"no winners\"\n",
        "    else:\n",
        "        z = \"Make sure you type it correctly\"\n",
        "    print(\"The winnig player is:\", z)\n",
        "    g = str(input(\"Do you want to 1play again (yes or no): \")).lower().strip()"
      ],
      "execution_count": 8,
      "outputs": [
        {
          "output_type": "stream",
          "text": [
            "Let's play Rock-Paper-Scissors game\n",
            "Do you want to play again (yes or no): ROCK\n"
          ],
          "name": "stdout"
        }
      ]
    }
  ]
}